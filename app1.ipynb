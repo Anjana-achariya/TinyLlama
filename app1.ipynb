{
 "cells": [
  {
   "cell_type": "code",
   "execution_count": 4,
   "id": "54b9b204",
   "metadata": {},
   "outputs": [],
   "source": [
    "import haystack"
   ]
  },
  {
   "cell_type": "code",
   "execution_count": 2,
   "id": "ea817073",
   "metadata": {},
   "outputs": [
    {
     "name": "stdout",
     "output_type": "stream",
     "text": [
      "2.13.1\n"
     ]
    }
   ],
   "source": [
    "print(haystack.__version__)"
   ]
  },
  {
   "cell_type": "code",
   "execution_count": 3,
   "id": "bb0f0394",
   "metadata": {},
   "outputs": [],
   "source": [
    "from haystack import Document"
   ]
  },
  {
   "cell_type": "code",
   "execution_count": 5,
   "id": "033e2e0f",
   "metadata": {},
   "outputs": [],
   "source": [
    "from haystack.document_stores.in_memory import InMemoryDocumentStore"
   ]
  },
  {
   "cell_type": "code",
   "execution_count": 9,
   "id": "69dcf170",
   "metadata": {},
   "outputs": [],
   "source": [
    "from haystack.components.retrievers.in_memory import InMemoryEmbeddingRetriever\n",
    "from haystack.components.retrievers.in_memory import InMemoryBM25Retriever\n",
    "from haystack.document_stores.in_memory import InMemoryDocumentStore"
   ]
  },
  {
   "cell_type": "code",
   "execution_count": 10,
   "id": "d5670f46",
   "metadata": {},
   "outputs": [
    {
     "name": "stdout",
     "output_type": "stream",
     "text": [
      "Name: haystack-ai\n",
      "Version: 2.13.1\n",
      "Summary: LLM framework to build customizable, production-ready LLM applications. Connect components (models, vector DBs, file converters) to pipelines or agents that can interact with your data.\n",
      "Home-page: https://github.com/deepset-ai/haystack\n",
      "Author: \n",
      "Author-email: \"deepset.ai\" <malte.pietsch@deepset.ai>\n",
      "License-Expression: Apache-2.0\n",
      "Location: c:\\Users\\anjan\\OneDrive\\Desktop\\project\\myenv\\Lib\\site-packages\n",
      "Requires: haystack-experimental, jinja2, jsonschema, lazy-imports, more-itertools, networkx, numpy, openai, posthog, pydantic, python-dateutil, pyyaml, requests, tenacity, tqdm, typing-extensions\n",
      "Required-by: haystack-experimental, ollama-haystack\n",
      "Note: you may need to restart the kernel to use updated packages.\n"
     ]
    }
   ],
   "source": [
    "pip show haystack-ai\n"
   ]
  },
  {
   "cell_type": "code",
   "execution_count": 5,
   "id": "89ec4182",
   "metadata": {},
   "outputs": [
    {
     "name": "stdout",
     "output_type": "stream",
     "text": [
      "['Answer', 'AsyncPipeline', 'ComponentError', 'DeserializationError', 'Document', 'ExtractedAnswer', 'GeneratedAnswer', 'Pipeline', 'PredefinedPipeline', 'SuperComponent', '__all__', '__builtins__', '__cached__', '__doc__', '__file__', '__loader__', '__name__', '__package__', '__path__', '__spec__', '__version__', 'component', 'core', 'dataclasses', 'default_from_dict', 'default_to_dict', 'haystack', 'lazy_imports', 'logging', 'marshal', 'super_component', 'telemetry', 'tracing', 'utils', 'version']\n"
     ]
    }
   ],
   "source": [
    "print(dir(haystack))"
   ]
  },
  {
   "cell_type": "code",
   "execution_count": 10,
   "id": "b19b455e",
   "metadata": {},
   "outputs": [],
   "source": [
    "from haystack.components.builders import PromptBuilder"
   ]
  },
  {
   "cell_type": "code",
   "execution_count": 12,
   "id": "8c8f58c9",
   "metadata": {},
   "outputs": [],
   "source": [
    "from haystack import Document, Pipeline"
   ]
  },
  {
   "cell_type": "code",
   "execution_count": 20,
   "id": "48154140",
   "metadata": {},
   "outputs": [],
   "source": [
    "from haystack_integrations.components.generators.ollama import OllamaGenerator\n"
   ]
  },
  {
   "cell_type": "code",
   "execution_count": 13,
   "id": "76603fbd",
   "metadata": {},
   "outputs": [
    {
     "name": "stderr",
     "output_type": "stream",
     "text": [
      "c:\\Users\\anjan\\OneDrive\\Desktop\\project\\myenv\\Lib\\site-packages\\tqdm\\auto.py:21: TqdmWarning: IProgress not found. Please update jupyter and ipywidgets. See https://ipywidgets.readthedocs.io/en/stable/user_install.html\n",
      "  from .autonotebook import tqdm as notebook_tqdm\n"
     ]
    }
   ],
   "source": [
    "from datasets import load_dataset"
   ]
  },
  {
   "cell_type": "code",
   "execution_count": 16,
   "id": "47ff8995",
   "metadata": {},
   "outputs": [],
   "source": [
    "import pandas as pd\n",
    "import os"
   ]
  },
  {
   "cell_type": "code",
   "execution_count": null,
   "id": "d08d7d15",
   "metadata": {},
   "outputs": [],
   "source": [
    "\"\"\"dataset = pd.read_csv(r\"C:\\Users\\anjan\\OneDrive\\Desktop\\project\\myenv\\songs_2000_2020_50k.csv\")\"\"\""
   ]
  },
  {
   "cell_type": "code",
   "execution_count": 21,
   "id": "fe717aa4",
   "metadata": {},
   "outputs": [],
   "source": [
    "dataset = pd.read_csv(r\"C:\\Users\\anjan\\OneDrive\\Desktop\\project\\myenv\\share\\man\\anime-dataset-2023.csv\")"
   ]
  },
  {
   "cell_type": "code",
   "execution_count": null,
   "id": "2f31ffbc",
   "metadata": {},
   "outputs": [],
   "source": [
    "\"\"\"\n",
    "docs = [Document(content=row[\"Synopsis\"],\n",
    "                meta ={\"Name\":row[\"Name\"],\n",
    "                        \"Genres\":row[\"Genres\"],\n",
    "                        \"Episodes\":row[\"Episodes\"],\n",
    "                        \"Rating\":row[\"Rating\"],\n",
    "                        \"Year\":row[\"Year\"],\n",
    "                        \"Studio\":row[\"Studio\"],\n",
    "                        \"Type\":row[\"Type\"],\n",
    "                        \"Status\":row[\"Status\"],\n",
    "                        \"Source\":row[\"Source\"],\n",
    "                        \"Duration\":row[\"Duration\"],\n",
    "                        \"Image URL\":row[\"Image URL\"],\n",
    "                        \"anime_id\":row[\"anime_id\"],\n",
    "                        \"English name\":row[\"English name\"],\n",
    "                        \"Other name\":row[\"Other name\"],\n",
    "                        \"Score\":row[\"Score\"],\n",
    "                        }) for index, row in dataset.iterrows()]\n",
    "\"\"\"\n",
    "\"\"\"\n",
    "anime_id,Name,English name,Other name,Score,\n",
    "Genres,Synopsis,Type,Episodes,Aired,\n",
    "Premiered,Status,Producers,Licensors,Studios,Source,Duration\n",
    ",Rating,Rank,Popularity,Favorites,Scored By,Members,Image URL\n",
    "\"\"\""
   ]
  },
  {
   "cell_type": "code",
   "execution_count": 27,
   "id": "c5e8fecf",
   "metadata": {},
   "outputs": [],
   "source": [
    "docs = [\n",
    "    Document(\n",
    "        content=(\n",
    "            f\"Synopsis: {row['Synopsis']}\\n\"\n",
    "            f\"Name: {row['Name']}\\n\"\n",
    "            f\"Genres: {row['Genres']}\\n\"\n",
    "            f\"Episodes: {row['Episodes']}\\n\"\n",
    "            f\"Rating: {row['Rating']}\\n\"\n",
    "            f\"Aired: {row['Aired']}\\n\"\n",
    "            f\"Premiered: {row['Premiered']}\\n\"\n",
    "            f\"Rank: {row['Rank']}\\n\"\n",
    "            f\"Studios: {row['Studios']}\\n\"\n",
    "            f\"Type: {row['Type']}\\n\"\n",
    "            f\"Status: {row['Status']}\\n\"\n",
    "            f\"Source: {row['Source']}\\n\"\n",
    "            f\"Duration: {row['Duration']}\\n\"\n",
    "            f\"Image URL: {row['Image URL']}\\n\"\n",
    "            f\"English name: {row['English name']}\\n\"\n",
    "            f\"Other name: {row['Other name']}\\n\"\n",
    "            f\"Score: {row['Score']}\\n\"\n",
    "        ),\n",
    "        meta={\n",
    "            \"Name\": row[\"Name\"],\n",
    "            \"Genres\": row[\"Genres\"],\n",
    "            \"Episodes\": row[\"Episodes\"],\n",
    "            \"Rating\": row[\"Rating\"],\n",
    "            \"Studios\": row[\"Studios\"],\n",
    "            \"Type\": row[\"Type\"],\n",
    "            \"Status\": row[\"Status\"],\n",
    "            \"Source\": row[\"Source\"],\n",
    "            \"Duration\": row[\"Duration\"],\n",
    "            \"Image URL\": row[\"Image URL\"],\n",
    "            \"anime_id\": row[\"anime_id\"],\n",
    "            \"English name\": row[\"English name\"],\n",
    "            \"Other name\": row[\"Other name\"],\n",
    "            \"Score\": row[\"Score\"],\n",
    "        }\n",
    "    )\n",
    "    for _, row in dataset.iterrows()\n",
    "]\n"
   ]
  },
  {
   "cell_type": "code",
   "execution_count": 28,
   "id": "36028aee",
   "metadata": {},
   "outputs": [],
   "source": [
    "document_store = InMemoryDocumentStore()\n",
    "document_store.write_documents(docs)\n",
    "retriever = InMemoryBM25Retriever(document_store=document_store)"
   ]
  },
  {
   "cell_type": "code",
   "execution_count": 69,
   "id": "a7b3b4e5",
   "metadata": {},
   "outputs": [],
   "source": [
    "template = \"\"\"\n",
    "You are an anime recommendation system. Given the user's query, recommend the top 5 anime titles based on the provided dataset.\n",
    "Content:\n",
    "{% for doc in documents %}\n",
    "{{ doc.content }}\n",
    "{% endfor %}\n",
    "\n",
    "Question: {{question}}\n",
    "Answer:\n",
    "\n",
    "\"\"\""
   ]
  },
  {
   "cell_type": "code",
   "execution_count": 64,
   "id": "ad6431c1",
   "metadata": {},
   "outputs": [],
   "source": [
    "from haystack.components.builders import PromptBuilder"
   ]
  },
  {
   "cell_type": "code",
   "execution_count": 82,
   "id": "fba86e39",
   "metadata": {},
   "outputs": [],
   "source": [
    "template =  \"\"\"\n",
    "Given the user's query, recommend the anime details.\n",
    "Content:\n",
    "{% for doc in documents %}\n",
    "{{ doc.content }}\n",
    "{% endfor %}\n",
    "\n",
    "Question: {{question}}\n",
    "Answer:\"\"\""
   ]
  },
  {
   "cell_type": "code",
   "execution_count": null,
   "id": "64d75b28",
   "metadata": {},
   "outputs": [],
   "source": [
    "#prompt_template = \n",
    "\"\"\"\n",
    "Given these documents, answer the question.\n",
    "Documents:\n",
    "{% for doc in documents %}\n",
    "    {{ doc.content }}\n",
    "{% endfor %}\n",
    "Question: {{ query }}\n",
    "Answer:\n",
    "\"\"\""
   ]
  },
  {
   "cell_type": "code",
   "execution_count": null,
   "id": "41d975f5",
   "metadata": {},
   "outputs": [],
   "source": [
    "prompt_builder = PromptBuilder(template=template,\n",
    "    required_variables=[\"docs\", \"Questions\"],)"
   ]
  },
  {
   "cell_type": "code",
   "execution_count": 34,
   "id": "095dc621",
   "metadata": {},
   "outputs": [],
   "source": [
    "generator = OllamaGenerator(\n",
    "    model=\"mistral\",\n",
    "    url=\"http://localhost:11434/api/generate\",\n",
    "    generation_kwargs={\n",
    "        \"num_predict\": 100,\n",
    "        \"temperature\": 0.9,})"
   ]
  },
  {
   "cell_type": "code",
   "execution_count": 84,
   "id": "dd7d25f4",
   "metadata": {},
   "outputs": [
    {
     "name": "stderr",
     "output_type": "stream",
     "text": [
      "PromptBuilder has 2 prompt variables, but `required_variables` is not set. By default, all prompt variables are treated as optional, which may lead to unintended behavior in multi-branch pipelines. To avoid unexpected execution, ensure that variables intended to be required are explicitly set in `required_variables`.\n"
     ]
    },
    {
     "name": "stdout",
     "output_type": "stream",
     "text": [
      "1. \"Bokutachi no Godzilla\" (Our Godzilla) is a Japanese animated television series that premiered in 2017. The series follows the adventures of a young boy named Shunya, who finds an egg left behind by Godzilla and hatches it into a baby kaiju named G-1.\n",
      "\n",
      "2. \"Chuunibyou demo Koi ga Shitai! Movie: Take On Me\" is a Japanese romantic\n"
     ]
    }
   ],
   "source": [
    "#main pipeline\n",
    "retriever = InMemoryBM25Retriever(document_store=document_store)\n",
    "\n",
    "prompt_builder = PromptBuilder(template=template )\n",
    "\n",
    "generator = OllamaGenerator(\n",
    "    model=\"mistral\",\n",
    "    url=\"http://localhost:11434\",\n",
    "    generation_kwargs={\n",
    "        \"num_predict\": 100,\n",
    "        \"temperature\": 0.9,\n",
    "    }\n",
    ")\n",
    "\n",
    "\n",
    "rag_pipeline = Pipeline()\n",
    "rag_pipeline.add_component(\"retriever\", retriever)\n",
    "rag_pipeline.add_component(\"prompt_builder\", prompt_builder)\n",
    "rag_pipeline.add_component(\"llm\", generator)\n",
    "rag_pipeline.connect(\"retriever\", \"prompt_builder.documents\")\n",
    "rag_pipeline.connect(\"prompt_builder\", \"llm\")\n",
    "\n",
    "\n",
    "Question = \"Recommend me some anime titles based on the dataset.\"\n",
    "\n",
    "result = rag_pipeline.run({\n",
    "    \"retriever\": {\"query\": Question},\n",
    "    \n",
    "})\n",
    "\n",
    "print(result[\"llm\"][\"replies\"][0])\n"
   ]
  },
  {
   "cell_type": "code",
   "execution_count": null,
   "id": "0af3d284",
   "metadata": {},
   "outputs": [],
   "source": []
  },
  {
   "cell_type": "code",
   "execution_count": 61,
   "id": "90706237",
   "metadata": {},
   "outputs": [
    {
     "ename": "SyntaxError",
     "evalue": "incomplete input (2152439363.py, line 8)",
     "output_type": "error",
     "traceback": [
      "  \u001b[36mCell\u001b[39m\u001b[36m \u001b[39m\u001b[32mIn[61]\u001b[39m\u001b[32m, line 8\u001b[39m\n\u001b[31m    \u001b[39m\u001b[31m\"\"\"\u001b[39m\n    ^\n\u001b[31mSyntaxError\u001b[39m\u001b[31m:\u001b[39m incomplete input\n"
     ]
    }
   ],
   "source": [
    "\"\"\"\n",
    "rag_pipeline_b = Pipeline()\n",
    "rag_pipeline_b.add_component(\"retriever\",retriever)\n",
    "rag_pipeline_b.add_component(\"generator\",generator)\n",
    "rag_pipeline_b.add_component(\"prompt_builder\")\n",
    "\n",
    "rag_pipeline_b.connect(\"retriever\", \"prompt_builder.documents\")\n",
    "rag_pipeline_b.connect(\"prompt_builder\", \"generator\")\n",
    "\"\"\""
   ]
  },
  {
   "cell_type": "code",
   "execution_count": null,
   "id": "1ceacb82",
   "metadata": {},
   "outputs": [],
   "source": []
  },
  {
   "cell_type": "code",
   "execution_count": 55,
   "id": "bb8aab8b",
   "metadata": {},
   "outputs": [
    {
     "data": {
      "text/plain": [
       "False"
      ]
     },
     "execution_count": 55,
     "metadata": {},
     "output_type": "execute_result"
    }
   ],
   "source": [
    "from dotenv import load_dotenv\n",
    "import os\n",
    "\n",
    "load_dotenv()"
   ]
  },
  {
   "cell_type": "code",
   "execution_count": null,
   "id": "2f274db1",
   "metadata": {},
   "outputs": [
    {
     "name": "stderr",
     "output_type": "stream",
     "text": [
      "c:\\Users\\anjan\\OneDrive\\Desktop\\project\\myenv\\Lib\\site-packages\\gradio\\interface.py:415: UserWarning: The `allow_flagging` parameter in `Interface` is deprecated.Use `flagging_mode` instead.\n",
      "  warnings.warn(\n"
     ]
    },
    {
     "name": "stdout",
     "output_type": "stream",
     "text": [
      "* Running on local URL:  http://127.0.0.1:7862\n",
      "* To create a public link, set `share=True` in `launch()`.\n"
     ]
    },
    {
     "data": {
      "text/html": [
       "<div><iframe src=\"http://127.0.0.1:7862/\" width=\"100%\" height=\"500\" allow=\"autoplay; camera; microphone; clipboard-read; clipboard-write;\" frameborder=\"0\" allowfullscreen></iframe></div>"
      ],
      "text/plain": [
       "<IPython.core.display.HTML object>"
      ]
     },
     "metadata": {},
     "output_type": "display_data"
    },
    {
     "data": {
      "text/plain": []
     },
     "execution_count": 90,
     "metadata": {},
     "output_type": "execute_result"
    }
   ],
   "source": []
  },
  {
   "cell_type": "code",
   "execution_count": null,
   "id": "a7d7deee",
   "metadata": {},
   "outputs": [],
   "source": []
  }
 ],
 "metadata": {
  "kernelspec": {
   "display_name": "myenv",
   "language": "python",
   "name": "python3"
  },
  "language_info": {
   "codemirror_mode": {
    "name": "ipython",
    "version": 3
   },
   "file_extension": ".py",
   "mimetype": "text/x-python",
   "name": "python",
   "nbconvert_exporter": "python",
   "pygments_lexer": "ipython3",
   "version": "3.12.4"
  }
 },
 "nbformat": 4,
 "nbformat_minor": 5
}

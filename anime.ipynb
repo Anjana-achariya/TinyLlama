{
 "cells": [
  {
   "cell_type": "code",
   "execution_count": 3,
   "id": "d1496460",
   "metadata": {},
   "outputs": [
    {
     "name": "stderr",
     "output_type": "stream",
     "text": [
      "c:\\Users\\anjan\\OneDrive\\Desktop\\project\\myenv\\Lib\\site-packages\\gradio\\interface.py:415: UserWarning: The `allow_flagging` parameter in `Interface` is deprecated.Use `flagging_mode` instead.\n",
      "  warnings.warn(\n"
     ]
    },
    {
     "name": "stdout",
     "output_type": "stream",
     "text": [
      "* Running on local URL:  http://127.0.0.1:7865\n",
      "* To create a public link, set `share=True` in `launch()`.\n"
     ]
    },
    {
     "data": {
      "text/html": [
       "<div><iframe src=\"http://127.0.0.1:7865/\" width=\"100%\" height=\"500\" allow=\"autoplay; camera; microphone; clipboard-read; clipboard-write;\" frameborder=\"0\" allowfullscreen></iframe></div>"
      ],
      "text/plain": [
       "<IPython.core.display.HTML object>"
      ]
     },
     "metadata": {},
     "output_type": "display_data"
    },
    {
     "data": {
      "text/plain": []
     },
     "execution_count": 3,
     "metadata": {},
     "output_type": "execute_result"
    }
   ],
   "source": [
    "import haystack\n",
    "from haystack import Document\n",
    "from haystack.document_stores.in_memory import InMemoryDocumentStore\n",
    "from haystack.components.retrievers.in_memory import InMemoryBM25Retriever\n",
    "from haystack.components.builders import PromptBuilder\n",
    "from haystack import Pipeline\n",
    "from haystack_integrations.components.generators.ollama import OllamaGenerator\n",
    "import os\n",
    "import json\n",
    "import gradio as gr\n",
    "import pandas as pd\n",
    "\n",
    "dataset = pd.read_csv(r\"C:\\Users\\anjan\\OneDrive\\Desktop\\project\\myenv\\share\\man\\anime-dataset-2023.csv\")\n",
    "\n",
    "docs = [\n",
    "    Document(\n",
    "        content=(\n",
    "            f\"Synopsis: {row['Synopsis']}\\n\"\n",
    "            f\"Name: {row['Name']}\\n\"\n",
    "            f\"Genres: {row['Genres']}\\n\"\n",
    "            f\"Episodes: {row['Episodes']}\\n\"\n",
    "            f\"Rating: {row['Rating']}\\n\"\n",
    "            f\"Aired: {row['Aired']}\\n\"\n",
    "            f\"Premiered: {row['Premiered']}\\n\"\n",
    "            f\"Rank: {row['Rank']}\\n\"\n",
    "            f\"Studios: {row['Studios']}\\n\"\n",
    "            f\"Type: {row['Type']}\\n\"\n",
    "            f\"Status: {row['Status']}\\n\"\n",
    "            f\"Source: {row['Source']}\\n\"\n",
    "            f\"Duration: {row['Duration']}\\n\"\n",
    "            f\"Image URL: {row['Image URL']}\\n\"\n",
    "            f\"English name: {row['English name']}\\n\"\n",
    "            f\"Other name: {row['Other name']}\\n\"\n",
    "            f\"Score: {row['Score']}\\n\"\n",
    "        ),\n",
    "        meta={\n",
    "            \"Name\": row[\"Name\"],\n",
    "            \"Genres\": row[\"Genres\"],\n",
    "            \"Episodes\": row[\"Episodes\"],\n",
    "            \"Rating\": row[\"Rating\"],\n",
    "            \"Studios\": row[\"Studios\"],\n",
    "            \"Type\": row[\"Type\"],\n",
    "            \"Status\": row[\"Status\"],\n",
    "            \"Source\": row[\"Source\"],\n",
    "            \"Duration\": row[\"Duration\"],\n",
    "            \"Image URL\": row[\"Image URL\"],\n",
    "            \"anime_id\": row[\"anime_id\"],\n",
    "            \"English name\": row[\"English name\"],\n",
    "            \"Other name\": row[\"Other name\"],\n",
    "            \"Score\": row[\"Score\"],\n",
    "        }\n",
    "    )\n",
    "    for _, row in dataset.iterrows()\n",
    "]\n",
    "\n",
    "\n",
    "document_store = InMemoryDocumentStore()\n",
    "document_store.write_documents(docs)\n",
    "retriever = InMemoryBM25Retriever(document_store=document_store)\n",
    "\n",
    "template =\"\"\"\n",
    "You are a helpful assistant. You will be given a question and you have to answer it based on the context provided. If the context does not contain enough information to answer the question, say \"I don't know\".\n",
    "Context: \n",
    "{% for doc in documents %}\n",
    "{{ doc.content }}\n",
    "{% endfor %}\n",
    "Question: {{question}}\n",
    "Answer:\n",
    "\"\"\"\n",
    "prompt_builder = PromptBuilder(template=template,required_variables=[\"documents\", \"question\"])\n",
    "\n",
    "generator =OllamaGenerator(\n",
    "    model = 'tinyllama',\n",
    "    url = 'http://localhost:11434',\n",
    "    generation_kwargs={\n",
    "        \"num_predict\":100,\n",
    "        \"temperature\":0.7,\n",
    "    })\n",
    "\n",
    "\n",
    "pipeline = Pipeline()\n",
    "pipeline.add_component(\"retriever\",retriever)\n",
    "pipeline.add_component(\"prompt_builder\", prompt_builder)\n",
    "pipeline.add_component(\"llm\", generator)\n",
    "pipeline.connect(\"retriever\", \"prompt_builder.documents\")\n",
    "pipeline.connect(\"prompt_builder\", \"llm\")\n",
    "\n",
    "pipeline.draw(\"pipeline2.png\")\n",
    "\n",
    "def predict(question):\n",
    "    result = pipeline.run({\n",
    "        \"retriever\": {\"query\": question},\n",
    "        \"prompt_builder\": {\"question\": question}\n",
    "        })\n",
    "\n",
    "\n",
    "    return result[\"llm\"][\"replies\"][0]\n",
    "\n",
    "gradio_interface = gr.Interface(\n",
    "    fn=predict,\n",
    "    inputs=gr.Textbox(label=\"Enter your question\"),\n",
    "    outputs=gr.Textbox(label=\"Answer\"),\n",
    "    title=\"Anime Q&A\",\n",
    "    description=\"Ask any question about the anime dataset and get an answer.\",\n",
    "    theme=\"default\",\n",
    "    allow_flagging=\"never\",\n",
    ")\n",
    "gradio_interface.launch()\n",
    "\n",
    "\n",
    "\n"
   ]
  },
  {
   "cell_type": "code",
   "execution_count": null,
   "id": "10aca761",
   "metadata": {},
   "outputs": [],
   "source": []
  }
 ],
 "metadata": {
  "kernelspec": {
   "display_name": "myenv",
   "language": "python",
   "name": "python3"
  },
  "language_info": {
   "codemirror_mode": {
    "name": "ipython",
    "version": 3
   },
   "file_extension": ".py",
   "mimetype": "text/x-python",
   "name": "python",
   "nbconvert_exporter": "python",
   "pygments_lexer": "ipython3",
   "version": "3.12.4"
  }
 },
 "nbformat": 4,
 "nbformat_minor": 5
}
